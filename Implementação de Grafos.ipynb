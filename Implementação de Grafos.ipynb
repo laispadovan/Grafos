{
  "nbformat": 4,
  "nbformat_minor": 0,
  "metadata": {
    "colab": {
      "provenance": []
    },
    "kernelspec": {
      "name": "python3",
      "display_name": "Python 3"
    },
    "language_info": {
      "name": "python"
    }
  },
  "cells": [
    {
      "cell_type": "code",
      "source": [
        "import numpy as np"
      ],
      "metadata": {
        "id": "pzmPe5I-BgUc"
      },
      "execution_count": 15,
      "outputs": []
    },
    {
      "cell_type": "code",
      "source": [
        "# Monta o Google Drive no ambiente do Colab para acessar os arquivos salvos lá\n",
        "from google.colab import drive\n",
        "drive.mount('/content/drive')"
      ],
      "metadata": {
        "colab": {
          "base_uri": "https://localhost:8080/"
        },
        "id": "0uQorp3TBy27",
        "outputId": "dcc773f5-c410-4c71-aee7-f0b622fbef64"
      },
      "execution_count": 16,
      "outputs": [
        {
          "output_type": "stream",
          "name": "stdout",
          "text": [
            "Drive already mounted at /content/drive; to attempt to forcibly remount, call drive.mount(\"/content/drive\", force_remount=True).\n"
          ]
        }
      ]
    },
    {
      "cell_type": "code",
      "source": [
        "# O arquivo é convertido em um array NumPy (numpy.ndarray) de inteiros (int32)\n",
        "# Esse array, com duas dimensões, funciona como uma matriz, assumindo que os valores estão separados por espaço\n",
        "\n",
        "def carregar_dataset(dataset):\n",
        "  caminho = '/content/drive/MyDrive/2025.01/CMAC03/grafos datasets/' + dataset + '.txt'\n",
        "  matriz = np.genfromtxt(caminho, dtype='int32')\n",
        "  return matriz"
      ],
      "metadata": {
        "id": "2ceh0cniAslc"
      },
      "execution_count": 17,
      "outputs": []
    },
    {
      "cell_type": "code",
      "source": [
        "# Função que salva em um arquivo .txt o nome da instância e as dimensões da matriz\n",
        "# O resultado será salvo no formato nome_instância qtd_linhas qtd_colunas em um arquivo de nome definido pelo usuário\n",
        "\n",
        "def salvar_resultado(arquivo_saida, dataset, linhas, colunas):\n",
        "    resultado = f\"{dataset} {linhas} {colunas}\\n\"\n",
        "    caminho_saida = '/content/drive/MyDrive/2025.01/CMAC03/' + arquivo_saida + '.txt'\n",
        "\n",
        "    # Abre o arquivo no modo de escrita ('w'), que sobrescreve o conteúdo anterior (se tiver)\n",
        "    # O bloco with garante que o arquivo será fechado automaticamente após o uso\n",
        "    # A expressão 'as f' cria uma variável chamada 'f', que representa o objeto do arquivo aberto\n",
        "    with open(caminho_saida, 'w') as f:\n",
        "        f.write(resultado)\n"
      ],
      "metadata": {
        "id": "xDw1QMDsBCP4"
      },
      "execution_count": 18,
      "outputs": []
    },
    {
      "cell_type": "code",
      "source": [
        "# Função principal que processa uma instância: carrega o dataset, obtém as dimensões da matriz\n",
        "# Imprime as informações no formato desejado e salva o resultado em um arquivo .txt\n",
        "\n",
        "def processar_instancia():\n",
        "    nome = input(\"Digite o nome da instância (sem .txt): \")\n",
        "    arquivo_saida = input(\"Digite o nome do arquivo que você quer salvar os resultados: \")\n",
        "\n",
        "    # Chama a função que carrega a matriz a partir do arquivo\n",
        "    matriz = carregar_dataset(nome)\n",
        "\n",
        "    linhas, colunas = matriz.shape\n",
        "\n",
        "    print(f\"{nome} {linhas} {colunas}\")\n",
        "\n",
        "    # Chama a função 'salvar_resultado' para salvar as mesmas informações em um arquivo de texto no Google Drive\n",
        "    salvar_resultado(arquivo_saida, nome, linhas, colunas)\n"
      ],
      "metadata": {
        "id": "vW9a0aM7BbWH"
      },
      "execution_count": 19,
      "outputs": []
    },
    {
      "cell_type": "code",
      "source": [
        "processar_instancia()"
      ],
      "metadata": {
        "colab": {
          "base_uri": "https://localhost:8080/"
        },
        "id": "Dfm0k9_XBkj_",
        "outputId": "cf8bacaa-d7a8-4c88-91de-299034c48687"
      },
      "execution_count": 22,
      "outputs": [
        {
          "output_type": "stream",
          "name": "stdout",
          "text": [
            "Digite o nome da instância (sem .txt): zachary\n",
            "Digite o nome do arquivo que você quer salvar os resultados: resultado_zachary\n",
            "zachary 34 34\n"
          ]
        }
      ]
    }
  ]
}